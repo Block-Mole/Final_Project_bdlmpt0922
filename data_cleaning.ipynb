{
 "cells": [
  {
   "cell_type": "code",
   "execution_count": 1,
   "id": "5cd0aacd",
   "metadata": {},
   "outputs": [],
   "source": [
    "#librerias\n",
    "import pandas as pd\n",
    "import cv2\n",
    "import os\n",
    "import matplotlib.pyplot as plt\n",
    "import numpy as np\n",
    "from PIL import Image"
   ]
  },
  {
   "cell_type": "markdown",
   "id": "b0512b57",
   "metadata": {},
   "source": [
    "## Definir y, x"
   ]
  },
  {
   "cell_type": "markdown",
   "id": "7009c613",
   "metadata": {},
   "source": [
    "### Train"
   ]
  },
  {
   "cell_type": "code",
   "execution_count": 47,
   "id": "e83ae2ca",
   "metadata": {},
   "outputs": [],
   "source": [
    "#os.listdir(os.path.join(dataset_path, \"train\", \"angry\"))\n",
    "#var = cv2.imread(f\"raw_d/train/angry/{angry_train[0]}\")\n",
    "#plt.imshow(var)"
   ]
  },
  {
   "cell_type": "code",
   "execution_count": 43,
   "id": "a15ed56c",
   "metadata": {},
   "outputs": [],
   "source": [
    "#os.listdir(os.path.join(dataset_path, \"train\", \"angry\"))\n",
    "#var = cv2.imread(f\"raw_d/train/fear/{os.listdir(train_list_path+'/fear')[0]}\")\n",
    "#var = cv2.imread(f'{train_list_path+\"/\"+\"fear\"+\"/Training_7246162.jpg\"}')"
   ]
  },
  {
   "cell_type": "code",
   "execution_count": null,
   "id": "bccdd1ce",
   "metadata": {},
   "outputs": [],
   "source": [
    "####"
   ]
  },
  {
   "cell_type": "code",
   "execution_count": 13,
   "id": "7f0393c8",
   "metadata": {},
   "outputs": [],
   "source": [
    "train_list_path = os.path.join(\"raw_d\",\"train\")"
   ]
  },
  {
   "cell_type": "code",
   "execution_count": 14,
   "id": "702b0fd5",
   "metadata": {},
   "outputs": [
    {
     "data": {
      "text/plain": [
       "'raw_d/train'"
      ]
     },
     "execution_count": 14,
     "metadata": {},
     "output_type": "execute_result"
    }
   ],
   "source": [
    "train_list_path"
   ]
  },
  {
   "cell_type": "code",
   "execution_count": 56,
   "id": "2f6f11a8",
   "metadata": {},
   "outputs": [],
   "source": [
    "X_train, y_train = [], []\n",
    "\n",
    "for i in os.listdir(train_list_path):\n",
    "    for j in os.listdir(train_list_path+\"/\"+str(i)):\n",
    "        y_train.append(i)\n",
    "        X_train.append(cv2.imread(f'{train_list_path+\"/\"+str(i)+\"/\"+j}'))  "
   ]
  },
  {
   "cell_type": "code",
   "execution_count": 65,
   "id": "86157085",
   "metadata": {},
   "outputs": [
    {
     "data": {
      "text/plain": [
       "True"
      ]
     },
     "execution_count": 65,
     "metadata": {},
     "output_type": "execute_result"
    }
   ],
   "source": [
    "len(y_train) == len(X_train)"
   ]
  },
  {
   "cell_type": "markdown",
   "id": "d7b72739",
   "metadata": {},
   "source": [
    "### Test"
   ]
  },
  {
   "cell_type": "code",
   "execution_count": 63,
   "id": "34e44f63",
   "metadata": {},
   "outputs": [
    {
     "data": {
      "text/plain": [
       "'raw_d/test'"
      ]
     },
     "execution_count": 63,
     "metadata": {},
     "output_type": "execute_result"
    }
   ],
   "source": [
    "test_list_path = os.path.join(\"raw_d\",\"test\")\n",
    "test_list_path"
   ]
  },
  {
   "cell_type": "code",
   "execution_count": 64,
   "id": "2d147704",
   "metadata": {},
   "outputs": [],
   "source": [
    "X_test,y_test = [], []\n",
    "for i in os.listdir(test_list_path):\n",
    "    for j in os.listdir(test_list_path+\"/\"+str(i)):\n",
    "        y_test.append(i)\n",
    "        X_test.append(cv2.imread(f'{test_list_path+\"/\"+str(i)+\"/\"+j}'))  "
   ]
  },
  {
   "cell_type": "code",
   "execution_count": 66,
   "id": "9cc2dd3e",
   "metadata": {
    "scrolled": false
   },
   "outputs": [
    {
     "data": {
      "text/plain": [
       "True"
      ]
     },
     "execution_count": 66,
     "metadata": {},
     "output_type": "execute_result"
    }
   ],
   "source": [
    "len(y_test) == len(X_test)"
   ]
  },
  {
   "cell_type": "markdown",
   "id": "981d8538",
   "metadata": {},
   "source": [
    "## Preparando dataset"
   ]
  },
  {
   "cell_type": "markdown",
   "id": "075ff24e",
   "metadata": {},
   "source": [
    "Vamos a usar el "
   ]
  }
 ],
 "metadata": {
  "kernelspec": {
   "display_name": "Python 3 (ipykernel)",
   "language": "python",
   "name": "python3"
  },
  "language_info": {
   "codemirror_mode": {
    "name": "ipython",
    "version": 3
   },
   "file_extension": ".py",
   "mimetype": "text/x-python",
   "name": "python",
   "nbconvert_exporter": "python",
   "pygments_lexer": "ipython3",
   "version": "3.9.13"
  }
 },
 "nbformat": 4,
 "nbformat_minor": 5
}
