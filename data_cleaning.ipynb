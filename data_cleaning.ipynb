{
 "cells": [
  {
   "cell_type": "code",
   "execution_count": 1,
   "id": "5cd0aacd",
   "metadata": {},
   "outputs": [],
   "source": [
    "#librerias\n",
    "import pandas as pd\n",
    "import cv2\n",
    "import os\n",
    "import matplotlib.pyplot as plt\n",
    "import numpy as np\n",
    "from PIL import Image"
   ]
  },
  {
   "cell_type": "code",
   "execution_count": 13,
   "id": "5a77ab3d",
   "metadata": {},
   "outputs": [
    {
     "data": {
      "text/plain": [
       "'/home/crypto_topo/core/final_project/Final_Project_bdlmpt0922/cor'"
      ]
     },
     "execution_count": 13,
     "metadata": {},
     "output_type": "execute_result"
    }
   ],
   "source": [
    "dataset_path = os.path.abspath()\n",
    "dataset_path"
   ]
  },
  {
   "cell_type": "code",
   "execution_count": 28,
   "id": "384e2992",
   "metadata": {},
   "outputs": [
    {
     "data": {
      "text/plain": [
       "['faceexp-comparison-data-train-public.csv',\n",
       " 'faceexp-comparison-data-test-public.csv',\n",
       " 'test',\n",
       " 'train']"
      ]
     },
     "execution_count": 28,
     "metadata": {},
     "output_type": "execute_result"
    }
   ],
   "source": [
    "#lista los elementos de la carpeta raw_data\n",
    "os.listdir(os.path.join(dataset_path))"
   ]
  },
  {
   "cell_type": "markdown",
   "id": "c8995b4f",
   "metadata": {},
   "source": [
    "##  Pasos\n",
    "\n",
    "- "
   ]
  },
  {
   "cell_type": "code",
   "execution_count": 20,
   "id": "a17b0413",
   "metadata": {},
   "outputs": [],
   "source": [
    "angry_train = os.listdir(\"raw_data/train/angry\")"
   ]
  },
  {
   "cell_type": "code",
   "execution_count": 34,
   "id": "fd2b347f",
   "metadata": {},
   "outputs": [],
   "source": [
    "#os.listdir(os.path.join(dataset_path, \"train\", \"angry\"))\n",
    "var = cv2.imread(f\"raw_data/train/angry/{angry_train[0]}\")"
   ]
  },
  {
   "cell_type": "code",
   "execution_count": 35,
   "id": "93daa7ed",
   "metadata": {},
   "outputs": [
    {
     "data": {
      "text/plain": [
       "(48, 48, 3)"
      ]
     },
     "execution_count": 35,
     "metadata": {},
     "output_type": "execute_result"
    }
   ],
   "source": [
    "var.shape"
   ]
  },
  {
   "cell_type": "code",
   "execution_count": 36,
   "id": "34d4ee16",
   "metadata": {
    "collapsed": true
   },
   "outputs": [
    {
     "data": {
      "text/plain": [
       "<matplotlib.image.AxesImage at 0x7f02a685b730>"
      ]
     },
     "execution_count": 36,
     "metadata": {},
     "output_type": "execute_result"
    },
    {
     "data": {
      "image/png": "[encoded data removed]",
      "text/plain": [
       "<Figure size 640x480 with 1 Axes>"
      ]
     },
     "metadata": {},
     "output_type": "display_data"
    }
   ],
   "source": [
    "plt.imshow(var)"
   ]
  },
  {
   "cell_type": "code",
   "execution_count": 43,
   "id": "73c7b0fc",
   "metadata": {},
   "outputs": [],
   "source": []
  }
 ],
 "metadata": {
  "kernelspec": {
   "display_name": "Python 3 (ipykernel)",
   "language": "python",
   "name": "python3"
  },
  "language_info": {
   "codemirror_mode": {
    "name": "ipython",
    "version": 3
   },
   "file_extension": ".py",
   "mimetype": "text/x-python",
   "name": "python",
   "nbconvert_exporter": "python",
   "pygments_lexer": "ipython3",
   "version": "3.9.13"
  }
 },
 "nbformat": 4,
 "nbformat_minor": 5
}
